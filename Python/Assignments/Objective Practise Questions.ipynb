{
 "cells": [
  {
   "cell_type": "code",
   "execution_count": null,
   "metadata": {},
   "outputs": [],
   "source": [
    "Q1. How can we create an iterator object from a list?\n",
    "a) Bypassing the given list to the iter() function"
   ]
  },
  {
   "cell_type": "code",
   "execution_count": null,
   "metadata": {},
   "outputs": [],
   "source": [
    "Q2. If the function contains at least of one “yield” statement, then it\n",
    "becomes _____\n",
    "b) a generator function"
   ]
  },
  {
   "cell_type": "code",
   "execution_count": null,
   "metadata": {},
   "outputs": [],
   "source": [
    "Q3. What is the output of the code?\n",
    "mylist = [1, 3, 6, 10]\n",
    "a = (x**2 for x in mylist)\n",
    "print(next(a), next(a))\n",
    "\n",
    "b) 1 9"
   ]
  },
  {
   "cell_type": "code",
   "execution_count": null,
   "metadata": {},
   "outputs": [],
   "source": [
    "Q4. What are the criteria that must be met to create closure in Python?\n",
    "d) All of the above."
   ]
  },
  {
   "cell_type": "code",
   "execution_count": null,
   "metadata": {},
   "outputs": [],
   "source": [
    "Q5. What is the output of the code?\n",
    "\n",
    "def Foo(n):\n",
    "    def multiplier(x):\n",
    "        return x * n\n",
    "    return multiplier\n",
    "\n",
    "a = Foo(5)\n",
    "b = Foo(5)\n",
    "\n",
    "print(a(b(2)))\n",
    "\n",
    "d) 50"
   ]
  },
  {
   "cell_type": "code",
   "execution_count": null,
   "metadata": {},
   "outputs": [],
   "source": [
    "Q6. What is the output of the code?\n",
    "c) I got decorated\n",
    " I am ordinary\n"
   ]
  },
  {
   "cell_type": "code",
   "execution_count": null,
   "metadata": {},
   "outputs": [],
   "source": [
    "Q7: What is the more pythonic way to use getters and setters?\n",
    "d) @property"
   ]
  },
  {
   "cell_type": "code",
   "execution_count": null,
   "metadata": {},
   "outputs": [],
   "source": [
    "Q8. In Python, there is a built-in function property() that returns a property object. The property object has which of the methods?\n",
    "b) getter(), setter() and delete()"
   ]
  },
  {
   "cell_type": "code",
   "execution_count": null,
   "metadata": {},
   "outputs": [],
   "source": [
    "Q9. Which of the following statement is true?\n",
    "b) Decorators don’t work with functions that take parameters.\n"
   ]
  },
  {
   "cell_type": "code",
   "execution_count": null,
   "metadata": {},
   "outputs": [],
   "source": [
    "Q10. For the following codes, which of the following statements is true?\n",
    "def printHello():\n",
    "    print(\"Hello\")\n",
    "a = printHello()\n",
    "\n",
    "a) Print Hello() is a function, and a is a variable. None of them are objects."
   ]
  },
  {
   "cell_type": "code",
   "execution_count": null,
   "metadata": {},
   "outputs": [],
   "source": [
    "Q11. What is the output of the program?\n",
    "a) a = 10 a = 30    *****"
   ]
  },
  {
   "cell_type": "code",
   "execution_count": 14,
   "metadata": {},
   "outputs": [
    {
     "name": "stdout",
     "output_type": "stream",
     "text": [
      "a = 20\n"
     ]
    }
   ],
   "source": [
    "def outerFunction():\n",
    "    global a\n",
    "    a = 20\n",
    "    def innerFunction():\n",
    "        global a\n",
    "        a = 30\n",
    "        print('a =', a)\n",
    "a = 10\n",
    "outerFunction()\n",
    "print('a =', a)\n"
   ]
  },
  {
   "cell_type": "code",
   "execution_count": null,
   "metadata": {},
   "outputs": [],
   "source": [
    "Q12. Which of the following statements is true?\n",
    "a) A class is a blueprint for the object"
   ]
  },
  {
   "cell_type": "code",
   "execution_count": null,
   "metadata": {},
   "outputs": [],
   "source": [
    "Q13. What is the output of the code?\n",
    "class Foo:\n",
    "    def printLine(self, line='Python'):\n",
    "        print(line)\n",
    "\n",
    "o1 = Foo()\n",
    "o1.printLine('Java')\n",
    "\n",
    "c) Java"
   ]
  },
  {
   "cell_type": "code",
   "execution_count": null,
   "metadata": {},
   "outputs": [],
   "source": [
    "Q14. What is the function of the __init__() function in Python?\n",
    "a) Initialises the class for use"
   ]
  },
  {
   "cell_type": "code",
   "execution_count": null,
   "metadata": {},
   "outputs": [],
   "source": [
    "Q15. What is the output of the code?\n",
    "class Point:\n",
    "    def __init__(self, x = 0, y = 0):\n",
    "        self.x = x+1\n",
    "        self.y = y+1\n",
    "\n",
    "p1 = Point()\n",
    "print(p1.x, p1.y)\n",
    "\n",
    "b) 1 1"
   ]
  },
  {
   "cell_type": "code",
   "execution_count": null,
   "metadata": {},
   "outputs": [],
   "source": [
    "Q16. Which of the following code used the inheritance feature?\n",
    "c)\n",
    "1. class Foo:\n",
    "2. pass\n",
    "3. class Hoo(Foo):\n",
    "pass"
   ]
  },
  {
   "cell_type": "code",
   "execution_count": null,
   "metadata": {},
   "outputs": [],
   "source": [
    "Q17 If you a class is derived from two different classes, it’s called \n",
    "b) Multiple Inheritance"
   ]
  },
  {
   "cell_type": "code",
   "execution_count": null,
   "metadata": {},
   "outputs": [],
   "source": [
    "Q18. Which of the following statements is true?\n",
    "d) All of the above."
   ]
  },
  {
   "cell_type": "code",
   "execution_count": null,
   "metadata": {},
   "outputs": [],
   "source": [
    "Q19. What is the output of the code?\n",
    "class Point:\n",
    "\n",
    "    def __init__(self, x = 0, y = 0):\n",
    "        self.x = x\n",
    "        self.y = y\n",
    "\n",
    "    def __sub__(self, other):\n",
    "        x = self.x + other.x\n",
    "        y = self.y + other.y\n",
    "        return Point(x,y)\n",
    "\n",
    "p1 = Point(3, 4)\n",
    "p2 = Point(1, 2)\n",
    "result = p1-p2\n",
    "print(result.x, result.y)\n",
    "\n",
    "b) 4 6"
   ]
  },
  {
   "cell_type": "code",
   "execution_count": null,
   "metadata": {},
   "outputs": [],
   "source": [
    "Q20. Opening a file in ‘a’ mode\n",
    "c) opens the file for appending, at the end of file"
   ]
  },
  {
   "cell_type": "code",
   "execution_count": null,
   "metadata": {},
   "outputs": [],
   "source": [
    "Q21. What does the following code do?\n",
    " f = open(\"test.txt\")\n",
    "\n",
    "b) Opens test.txt file for reading only"
   ]
  },
  {
   "cell_type": "code",
   "execution_count": null,
   "metadata": {},
   "outputs": [],
   "source": [
    "Q22. Which of the codes closes files automatically if an exception\n",
    "occurs?\n",
    "\n",
    "c) None of the above"
   ]
  },
  {
   "cell_type": "code",
   "execution_count": null,
   "metadata": {},
   "outputs": [],
   "source": [
    "Q23. For the following code,\n",
    "1. f = open('test.txt', 'r', encoding = 'utf-8')\n",
    "2. f.read()\n",
    "\n",
    "a) This program reads the content of the test.txt file"
   ]
  },
  {
   "cell_type": "code",
   "execution_count": 19,
   "metadata": {},
   "outputs": [],
   "source": [
    "Q24. What does the following code do?\n",
    "os.listdir()\n",
    "\n",
    "a) Prints the current working directory."
   ]
  },
  {
   "cell_type": "code",
   "execution_count": null,
   "metadata": {},
   "outputs": [],
   "source": [
    "Q25. Which of the following is correct?\n",
    "a) An exception is an error that occurs in the runtime.\n"
   ]
  },
  {
   "cell_type": "code",
   "execution_count": null,
   "metadata": {},
   "outputs": [],
   "source": [
    "Q26. What will happen if we try to open the file that doesn’t exist?\n",
    "a) A new file is created."
   ]
  },
  {
   "cell_type": "code",
   "execution_count": null,
   "metadata": {},
   "outputs": [],
   "source": [
    "Q27. What is the output of the code?\n",
    "b) 2.0"
   ]
  },
  {
   "cell_type": "code",
   "execution_count": null,
   "metadata": {},
   "outputs": [],
   "source": [
    "Q28. What does the following code do?\n",
    "\n",
    "a) Prints Two if an exception occurs (doesn’t matter which exception)"
   ]
  },
  {
   "cell_type": "code",
   "execution_count": null,
   "metadata": {},
   "outputs": [],
   "source": [
    "Q29. Which of the following statement is true?\n",
    "b) You can create the user-defined exception by deriving a class from Exception class."
   ]
  },
  {
   "cell_type": "code",
   "execution_count": null,
   "metadata": {},
   "outputs": [],
   "source": [
    "Q30. Which of the following statement is true?\n",
    "d) All of the above"
   ]
  },
  {
   "cell_type": "code",
   "execution_count": null,
   "metadata": {},
   "outputs": [],
   "source": [
    "Q31. What is the output of the code?\n",
    "b) Python is awesome"
   ]
  },
  {
   "cell_type": "code",
   "execution_count": null,
   "metadata": {},
   "outputs": [],
   "source": [
    "Q32. If the return statement is not used inside the function, the function\n",
    "will return:\n",
    "b) None object"
   ]
  },
  {
   "cell_type": "code",
   "execution_count": null,
   "metadata": {},
   "outputs": [],
   "source": [
    "Q33. What is the output of the code?\n",
    "1. def greetPerson(*name):\n",
    "2. print('Hello', name)\n",
    "3.\n",
    "4. greetPerson('Frodo', 'Sauron')\n",
    "\n",
    "b) Hello ('Frodo', 'Sauron')\n"
   ]
  },
  {
   "cell_type": "code",
   "execution_count": null,
   "metadata": {},
   "outputs": [],
   "source": [
    "Q34. What is a recursive function?\n",
    "b) A function that calls itself."
   ]
  },
  {
   "cell_type": "code",
   "execution_count": null,
   "metadata": {},
   "outputs": [],
   "source": [
    "Q35. What is the output of the program?\n",
    "1. result = lambda x: x * x\n",
    "2. print(result(5))\n",
    "\n",
    "c) 25"
   ]
  },
  {
   "cell_type": "code",
   "execution_count": null,
   "metadata": {},
   "outputs": [],
   "source": [
    "Q36. What is the output of the program?\n",
    "c) 7\n"
   ]
  },
  {
   "cell_type": "code",
   "execution_count": null,
   "metadata": {},
   "outputs": [],
   "source": [
    "Q37. Suppose you need to print pi constant defined in the math module.\n",
    "Which of the following code can do this task?\n",
    "d)\n",
    "1. from math import pi\n",
    "2. print(math.pi)"
   ]
  },
  {
   "cell_type": "code",
   "execution_count": null,
   "metadata": {},
   "outputs": [],
   "source": [
    "Q38. Which operator is used in Python to import modules from the\n",
    "packages?\n",
    "a). operator"
   ]
  },
  {
   "cell_type": "code",
   "execution_count": null,
   "metadata": {},
   "outputs": [],
   "source": [
    "Q39. What is the output of the code?\n",
    "1. numbers = [1, 3, 6]\n",
    "2. newNumbers = tuple(map(lambda x: x , numbers))\n",
    "3. print(newNumbers)\n",
    "\n",
    "b) (1, 3, 6)\n"
   ]
  },
  {
   "cell_type": "code",
   "execution_count": null,
   "metadata": {},
   "outputs": [],
   "source": [
    "Q40. What is the output of the code?\n",
    "1. if None:\n",
    "2. print(“Hello”)\n",
    "c) Nothing will be printed\n"
   ]
  },
  {
   "cell_type": "code",
   "execution_count": null,
   "metadata": {},
   "outputs": [],
   "source": [
    "Q41. The if-elif-else executes only one block of code among several\n",
    "blocks.\n",
    "a) True"
   ]
  },
  {
   "cell_type": "code",
   "execution_count": null,
   "metadata": {},
   "outputs": [],
   "source": [
    "Q42. What is the output of the code?\n",
    "a) 2\n",
    " 1\n"
   ]
  },
  {
   "cell_type": "code",
   "execution_count": null,
   "metadata": {},
   "outputs": [],
   "source": [
    "Q43. In the Python, for and while loop can have the optional else\n",
    "statement?\n",
    "a) Only for loop can have the optional else statement"
   ]
  },
  {
   "cell_type": "code",
   "execution_count": null,
   "metadata": {},
   "outputs": [],
   "source": [
    "Q44. What is the output of the code?\n",
    "b) 10"
   ]
  },
  {
   "cell_type": "code",
   "execution_count": null,
   "metadata": {},
   "outputs": [],
   "source": [
    "Q45. What is the output of the code?\n",
    "1. while 4 == 4:\n",
    "2. print('4')\n",
    "\n",
    "c) 4 is printed infinitely until the program closes"
   ]
  },
  {
   "cell_type": "code",
   "execution_count": null,
   "metadata": {},
   "outputs": [],
   "source": [
    "Q46. Is it better to use the for loop instead of while if we are iterating\n",
    "through a sequence?\n",
    "b) Yes, for loop is more pythonic choice."
   ]
  },
  {
   "cell_type": "code",
   "execution_count": null,
   "metadata": {},
   "outputs": [],
   "source": [
    "Q47. Which of the following statement is true?\n",
    "d) All of the above.\n"
   ]
  },
  {
   "cell_type": "code",
   "execution_count": null,
   "metadata": {},
   "outputs": [],
   "source": [
    "Q48. What is the output of the code?\n",
    "a) PYTHON"
   ]
  },
  {
   "cell_type": "code",
   "execution_count": null,
   "metadata": {},
   "outputs": [],
   "source": [
    "Q49. Which of the statement is true about the “pass”\n",
    "statement?\n",
    "c) It is used as the placeholder for future implementation of functions, loops, etc\n"
   ]
  },
  {
   "cell_type": "code",
   "execution_count": null,
   "metadata": {},
   "outputs": [],
   "source": [
    "Q50. In regards to separated value files such as .csv and .tsv, what is\n",
    "the delimiter?\n",
    "c) Any character such as the comma (,) or tab (\\t) that is used to separate\n",
    "the column data"
   ]
  },
  {
   "cell_type": "code",
   "execution_count": null,
   "metadata": {},
   "outputs": [],
   "source": [
    "Q51. In separated value files such as .csv and .tsv, what does the first\n",
    "row in the file typically contain?\n",
    "a) The column names of the data"
   ]
  },
  {
   "cell_type": "code",
   "execution_count": null,
   "metadata": {},
   "outputs": [],
   "source": [
    "Q52. Assume you have a file object my_data, which has properly\n",
    "opened a separated value file that uses the tab character (\\t) as the\n",
    "delimiter.\n",
    "What is the proper way to open the file using the Python CSV module\n",
    "and assign it to the variable csv_reader?\n",
    "\n",
    "b) csv.reader(my_data, delimiter='\\t')"
   ]
  },
  {
   "cell_type": "code",
   "execution_count": null,
   "metadata": {},
   "outputs": [],
   "source": [
    "Q53. When iterating over an object returned from csv.reader(), what is\n",
    "returned with each iteration?\n",
    "For example, given the following code block that assumes csv_reader is an object returned\n",
    "from csv.reader(), what would be printed to the console with each iteration?\n",
    "\n",
    "c) The individual value data that is separated by the delimiter"
   ]
  },
  {
   "cell_type": "code",
   "execution_count": null,
   "metadata": {},
   "outputs": [],
   "source": [
    "Q54. When writing to a CSV file using the .writerow() method of\n",
    "the csv.DictWriter object, what must each key in the\n",
    "input dict represent? Below is an example:\n",
    "    \n",
    "d) Each key indicates the column index as an integer for where the value should go"
   ]
  },
  {
   "cell_type": "code",
   "execution_count": null,
   "metadata": {},
   "outputs": [],
   "source": [
    "Q55. Which is the correct way to open the CSV file hrdata.csv for\n",
    "reading using the pandas package? Assume that the pandas\n",
    "package has already been imported.\n",
    "\n",
    "c) pandas.read_csv('hrdata.csv')\n"
   ]
  },
  {
   "cell_type": "code",
   "execution_count": null,
   "metadata": {},
   "outputs": [],
   "source": [
    "Q56. By default, pandas uses 0-based indices for indexing rows. Which\n",
    "is the correct way to import the CSV file hrdata.csv\n",
    "for reading and using the 'Name' column as the index row instead?\n",
    "\n",
    "c) pandas.read_csv('hrdata.csv', index='Name')\n"
   ]
  },
  {
   "cell_type": "code",
   "execution_count": null,
   "metadata": {},
   "outputs": [],
   "source": [
    "Q57. Given the file dog_breeds.txt, which of the following is the correct\n",
    "way to open the file for reading as a text file? Select all that apply.\n",
    "a) open('dog_breeds.txt', 'w')\n",
    "b) open('dog_breeds.txt', 'r')\n",
    "c) open('dog_breeds.txt')\n",
    "d) open('dog_breeds.txt', 'wb')\n",
    "e) open('dog_breeds.txt', 'rb')\n",
    "\n",
    "b) open('dog_breeds.txt', 'r')\n",
    "c) open('dog_breeds.txt')"
   ]
  },
  {
   "cell_type": "code",
   "execution_count": null,
   "metadata": {},
   "outputs": [],
   "source": [
    "Q58. Given the following directory structure:\n",
    "    Assuming that the cwd is in the root folder where animals reside, what is the full path to\n",
    "the feline folder?\n",
    "\n",
    "C:\\animals\\feline"
   ]
  },
  {
   "cell_type": "code",
   "execution_count": null,
   "metadata": {},
   "outputs": [],
   "source": [
    "Q59. Given the file jack_russell.png, which of the following is the correct\n",
    "way to open the file for reading as a buffered binary file? Select\n",
    "all that apply.\n",
    "\n",
    "open('jack_russell.png', 'rb')\n"
   ]
  },
  {
   "cell_type": "code",
   "execution_count": null,
   "metadata": {},
   "outputs": [],
   "source": [
    "Q60. Using the same directory structure as before:\n",
    "    Assuming that the cwd is in the root folder where Animals reside, what is the full path to\n",
    "the file bears.gif?\n",
    "\n",
    "C:\\animals\\ursine\\bears.gif"
   ]
  },
  {
   "cell_type": "code",
   "execution_count": null,
   "metadata": {},
   "outputs": [],
   "source": [
    "Q61. Whenever possible, what is the recommended way to ensure that\n",
    "a file object is properly closed after usage?\n",
    "\n",
    "a) Making sure that you use the .close() method before the end of the script"
   ]
  },
  {
   "cell_type": "code",
   "execution_count": null,
   "metadata": {},
   "outputs": [],
   "source": [
    "Q62. Using the same directory structure as before:\n",
    "    Assuming that the cwd is in the feline folder, what is the relative path to the\n",
    "file bears.gif?\n",
    "\n",
    "C:\\animals\\feline\\cd..\n",
    "C:\\animals\\ursine\\bears.gif"
   ]
  },
  {
   "cell_type": "code",
   "execution_count": null,
   "metadata": {},
   "outputs": [],
   "source": [
    "Q63. When reading a file using the file object, what method is best for\n",
    "reading the entire file into a single string?\n",
    "d) .readline()"
   ]
  },
  {
   "cell_type": "code",
   "execution_count": null,
   "metadata": {},
   "outputs": [],
   "source": [
    "Q64. The value 1.73 rounded to one decimal place using the “rounding\n",
    "up” strategy is…\n",
    "\n",
    "a) 1.8\n"
   ]
  },
  {
   "cell_type": "code",
   "execution_count": null,
   "metadata": {},
   "outputs": [],
   "source": [
    "Q65. The value -2.961 rounded to two decimal places using the\n",
    "“rounding down” strategy is…\n",
    "a) -2.96\n"
   ]
  },
  {
   "cell_type": "code",
   "execution_count": null,
   "metadata": {},
   "outputs": [],
   "source": [
    "Q66. When a value is truncated to 3 decimal places, which of the\n",
    "following is true?\n",
    "c) Both positive and negative numbers are rounded up."
   ]
  },
  {
   "cell_type": "code",
   "execution_count": null,
   "metadata": {},
   "outputs": [],
   "source": [
    "Q67. The value -0.045 rounded to 2 decimal places using the “round half\n",
    "away from zero” strategy is…\n",
    "a) -0.05"
   ]
  },
  {
   "cell_type": "code",
   "execution_count": null,
   "metadata": {},
   "outputs": [],
   "source": [
    "Q68. Which rounding strategy does Python’s built-in round() function\n",
    "use?\n",
    "c) Round half up\n"
   ]
  },
  {
   "cell_type": "code",
   "execution_count": null,
   "metadata": {},
   "outputs": [],
   "source": [
    "Q69. The value 4.65 rounded to one decimal place using the “round half\n",
    "to even” strategy is…\n",
    "\n",
    "b) 4.7"
   ]
  },
  {
   "cell_type": "code",
   "execution_count": null,
   "metadata": {},
   "outputs": [],
   "source": [
    "Q70. Which problem arises due to the multiple inheritances, if\n",
    "hierarchical inheritance is used previously for its base classes?\n",
    "a) Diamond"
   ]
  },
  {
   "cell_type": "code",
   "execution_count": null,
   "metadata": {},
   "outputs": [],
   "source": [
    "Q71. How many classes should a program contain to implement the\n",
    "multiple inheritances?\n",
    "b) At least 1\n"
   ]
  },
  {
   "cell_type": "code",
   "execution_count": null,
   "metadata": {},
   "outputs": [],
   "source": [
    "Q72. If class a inherits class b and class c as “class a: public class b,\n",
    "public class c {// class body ;}; ”, which class constructor will be\n",
    "called first?\n",
    "a) Class b\n"
   ]
  },
  {
   "cell_type": "code",
   "execution_count": null,
   "metadata": {},
   "outputs": [],
   "source": [
    "Q73.If all the members of all base classes are private then\n",
    "a) There won’t be any use of multiple inheritance"
   ]
  },
  {
   "cell_type": "code",
   "execution_count": null,
   "metadata": {},
   "outputs": [],
   "source": [
    "Q74. Can the derived class be made abstract if multiple inheritance is\n",
    "used?\n",
    "d) No, since constructors won’t be there"
   ]
  },
  {
   "cell_type": "code",
   "execution_count": null,
   "metadata": {},
   "outputs": [],
   "source": [
    "Q75. Which among the following best defines the multilevel inheritance?\n",
    "d) Class which have more than one parent"
   ]
  },
  {
   "cell_type": "code",
   "execution_count": null,
   "metadata": {},
   "outputs": [],
   "source": [
    "Q76. If there are 5 classes, E is derived from D, D from C, C from B and\n",
    "B from A. Which class constructor will be called first if the object of\n",
    "E or D is created?\n",
    "a) A"
   ]
  },
  {
   "cell_type": "code",
   "execution_count": null,
   "metadata": {},
   "outputs": [],
   "source": [
    "Q77. Which Class is having the highest degree of abstraction in\n",
    "multilevel inheritance of 5 levels?\n",
    "a) Class at 1st level"
   ]
  },
  {
   "cell_type": "code",
   "execution_count": null,
   "metadata": {},
   "outputs": [],
   "source": [
    "Q78. Multilevel inheritance allows _________________ in the program.\n",
    "d) As many levels of inheritance as required\n"
   ]
  },
  {
   "cell_type": "code",
   "execution_count": null,
   "metadata": {},
   "outputs": [],
   "source": [
    "Q79. If all the classes used parameterized constructors and no default\n",
    "constructor then, ___________\n",
    "b) Object of lower-level classes must call parent class constructors explicitly"
   ]
  },
  {
   "cell_type": "code",
   "execution_count": null,
   "metadata": {},
   "outputs": [],
   "source": [
    "Q80. Which is the universal exception handler class?\n",
    "d) Exceptions"
   ]
  },
  {
   "cell_type": "code",
   "execution_count": null,
   "metadata": {},
   "outputs": [],
   "source": [
    "Q81. What are two exception classes in the hierarchy of java exceptions\n",
    "class?\n",
    "c) Runtime exceptions and other exceptions"
   ]
  },
  {
   "cell_type": "code",
   "execution_count": null,
   "metadata": {},
   "outputs": [],
   "source": [
    "Q82. Which are the two blocks that are used to check error and handle\n",
    "the error?\n",
    "a) Try and catch\n"
   ]
  },
  {
   "cell_type": "code",
   "execution_count": null,
   "metadata": {},
   "outputs": [],
   "source": [
    "Q83. To catch the exceptions ____\n",
    "a) An object must be created to catch the exception"
   ]
  },
  {
   "cell_type": "code",
   "execution_count": null,
   "metadata": {},
   "outputs": [],
   "source": [
    "Q84. Which class is used to handle the input and output exceptions?\n",
    "c) IOExceptions"
   ]
  },
  {
   "cell_type": "code",
   "execution_count": null,
   "metadata": {},
   "outputs": [],
   "source": [
    "Q85. Which among the following is true for the class exceptions?\n",
    "d) Both base class and derived class may produce exceptions\n"
   ]
  },
  {
   "cell_type": "code",
   "execution_count": null,
   "metadata": {},
   "outputs": [],
   "source": [
    "Q86. If both base and derived class caught the exceptions, _____.\n",
    "a) Then catch block of a derived class must be defined before the base class"
   ]
  },
  {
   "cell_type": "code",
   "execution_count": null,
   "metadata": {},
   "outputs": [],
   "source": [
    "Q87. The catching of base class the exception _________ in java.\n",
    "b) Before derived class is not allowed by the compiler"
   ]
  },
  {
   "cell_type": "code",
   "execution_count": null,
   "metadata": {},
   "outputs": [],
   "source": [
    "Q88. Which of the following handles the undefined class in the\n",
    "program?\n",
    "d) ClassNotFoundException"
   ]
  },
  {
   "cell_type": "code",
   "execution_count": null,
   "metadata": {},
   "outputs": [],
   "source": [
    "Q89. Which among the following is true?\n",
    "c) Both the base and derived class catch the blocks are important."
   ]
  },
  {
   "cell_type": "code",
   "execution_count": null,
   "metadata": {},
   "outputs": [],
   "source": [
    "Q90. Which condition among the following might result in memory\n",
    "exception?\n",
    "c) Infinite loops"
   ]
  },
  {
   "cell_type": "code",
   "execution_count": null,
   "metadata": {},
   "outputs": [],
   "source": [
    "Q91. Which among the following is the correct definition for static\n",
    "member functions?\n",
    "b) Functions made to maintain a single copy of member functions for all the objects"
   ]
  },
  {
   "cell_type": "code",
   "execution_count": null,
   "metadata": {},
   "outputs": [],
   "source": [
    "Q92. The static member functions \n",
    "c) Having access to only the static members of a class."
   ]
  },
  {
   "cell_type": "code",
   "execution_count": null,
   "metadata": {},
   "outputs": [],
   "source": [
    "Q93. Which is the correct syntax to access the static member functions\n",
    "with a class name?\n",
    "d) className :: functionName;\n"
   ]
  },
  {
   "cell_type": "code",
   "execution_count": null,
   "metadata": {},
   "outputs": [],
   "source": [
    "Q94. The static members are _____\n",
    "d) Created and initialised, only once"
   ]
  },
  {
   "cell_type": "code",
   "execution_count": null,
   "metadata": {},
   "outputs": [],
   "source": [
    "Q95. Which among the following is true?\n",
    "b) Static member functions can’t be overloaded."
   ]
  },
  {
   "cell_type": "code",
   "execution_count": null,
   "metadata": {},
   "outputs": [],
   "source": [
    "Q96. The static member functions _\n",
    "d) Can’t be declared const, volatile, or constant volatile."
   ]
  },
  {
   "cell_type": "code",
   "execution_count": null,
   "metadata": {},
   "outputs": [],
   "source": [
    "Q97. Which among the following can’t be used to access the members\n",
    "in anyway?\n",
    "c) Single colon."
   ]
  },
  {
   "cell_type": "code",
   "execution_count": null,
   "metadata": {},
   "outputs": [],
   "source": [
    "Q98. If static data member are made inline, ____\n",
    "c) Those can be initialised within the class."
   ]
  },
  {
   "cell_type": "code",
   "execution_count": null,
   "metadata": {},
   "outputs": [],
   "source": [
    "Q99. The static data member ____\n",
    "b) Can’t be mutable."
   ]
  },
  {
   "cell_type": "code",
   "execution_count": null,
   "metadata": {},
   "outputs": [],
   "source": [
    "Q100. We can use the static member functions and static data member\n",
    "___________\n",
    "a) Even if a class object is not created"
   ]
  },
  {
   "cell_type": "code",
   "execution_count": null,
   "metadata": {},
   "outputs": [],
   "source": [
    "Q101. Point out the wrong statement:\n",
    "    c) rPy provides lots of scientific routines that work on top of NumPy"
   ]
  },
  {
   "cell_type": "code",
   "execution_count": null,
   "metadata": {},
   "outputs": [],
   "source": [
    "Q102. The ________ function returns its argument with the modified\n",
    " shape, whereas the ________ method modifies the array itself.\n",
    "    a) reshape, resize"
   ]
  },
  {
   "cell_type": "code",
   "execution_count": null,
   "metadata": {},
   "outputs": [],
   "source": [
    "Q103. To create sequences of the numbers, NumPy provides a function\n",
    "__________ analogous to range that returns arrays instead of lists.\n",
    "a) arange."
   ]
  },
  {
   "cell_type": "code",
   "execution_count": null,
   "metadata": {},
   "outputs": [],
   "source": [
    "Q104. Point out the correct statement:\n",
    "    d) All of the Mentioned\n"
   ]
  },
  {
   "cell_type": "code",
   "execution_count": null,
   "metadata": {},
   "outputs": [],
   "source": [
    "Q105. Which of the following function stack 1D array as the\n",
    "columns into the 2D array?\n",
    "b) column_stack."
   ]
  },
  {
   "cell_type": "code",
   "execution_count": null,
   "metadata": {},
   "outputs": [],
   "source": [
    "Q106. ndarray is also known as an alias array\n",
    "a) True\n"
   ]
  },
  {
   "cell_type": "code",
   "execution_count": null,
   "metadata": {},
   "outputs": [],
   "source": [
    "Q107. Which of the following method creates the new array object that\n",
    "looks at the same data?\n",
    "a) view."
   ]
  },
  {
   "cell_type": "code",
   "execution_count": null,
   "metadata": {},
   "outputs": [],
   "source": [
    "Q108. Which of the functions can be used to combine the\n",
    "different vectors to obtain the result for each n-uplet?\n",
    "b) ix_."
   ]
  },
  {
   "cell_type": "code",
   "execution_count": null,
   "metadata": {},
   "outputs": [],
   "source": [
    "Q109. ndarray.dataitemSize is the buffer containing actual elements\n",
    "of an array.\n",
    "a) True"
   ]
  },
  {
   "cell_type": "code",
   "execution_count": null,
   "metadata": {},
   "outputs": [],
   "source": [
    "Q110. Which of the following is in the NumPy library?\n",
    "d) all of the Mentioned"
   ]
  },
  {
   "cell_type": "code",
   "execution_count": null,
   "metadata": {},
   "outputs": [],
   "source": [
    "Q111. Which of the following sets the size of the buffer used in ufuncs ?\n",
    "c) setbufsize(size)\n"
   ]
  },
  {
   "cell_type": "code",
   "execution_count": null,
   "metadata": {},
   "outputs": [],
   "source": [
    "Q112. Point out the wrong statement:\n",
    "    b) In Numpy, universal functions are the instances of numpy.ufunction class"
   ]
  },
  {
   "cell_type": "code",
   "execution_count": null,
   "metadata": {},
   "outputs": [],
   "source": [
    "Q113. Which of the following attribute should be used while checking the\n",
    "type combination input and output?\n",
    "a) .types"
   ]
  },
  {
   "cell_type": "code",
   "execution_count": null,
   "metadata": {},
   "outputs": [],
   "source": [
    "Q114. Which of the following returns an array of “ones” with the same\n",
    "shape and type as a given array?\n",
    "b) ones_like\n"
   ]
  },
  {
   "cell_type": "code",
   "execution_count": null,
   "metadata": {},
   "outputs": [],
   "source": [
    "Q115. Point out the wrong statement:\n",
    "    c) The output of the ufunc is necessarily a ndarray, if all the input arguments are\n",
    "ndarrays"
   ]
  },
  {
   "cell_type": "code",
   "execution_count": null,
   "metadata": {},
   "outputs": [],
   "source": [
    "Q116. Which of the following set of a floating-point error callback\n",
    "function or a log object?\n",
    "b) settercall."
   ]
  },
  {
   "cell_type": "code",
   "execution_count": null,
   "metadata": {},
   "outputs": [],
   "source": [
    "Q117. Some ufuncs can take output arguments.\n",
    "b) False"
   ]
  },
  {
   "cell_type": "code",
   "execution_count": null,
   "metadata": {},
   "outputs": [],
   "source": [
    "Q118. ___________ decompose the elements of x into the\n",
    "mantissa and the two’s exponent.\n",
    "c) frexp"
   ]
  },
  {
   "cell_type": "code",
   "execution_count": null,
   "metadata": {},
   "outputs": [],
   "source": [
    "Q119. Which of the following function take the only a single value as\n",
    "input?\n",
    "a) iscomplex."
   ]
  },
  {
   "cell_type": "code",
   "execution_count": null,
   "metadata": {},
   "outputs": [],
   "source": [
    "Q120. The array object returned by the _array_prepare_ is passed to\n",
    " ufunc for computation.\n",
    "    a) True"
   ]
  },
  {
   "cell_type": "code",
   "execution_count": null,
   "metadata": {},
   "outputs": [],
   "source": [
    "Q121. All pandas data structures are ___mutable but not always\n",
    "_______-mutable.\n",
    "c) value,size."
   ]
  },
  {
   "cell_type": "code",
   "execution_count": null,
   "metadata": {},
   "outputs": [],
   "source": [
    "Q122. Point out the correct statement:\n",
    "    d) All of the above mentioned."
   ]
  },
  {
   "cell_type": "code",
   "execution_count": null,
   "metadata": {},
   "outputs": [],
   "source": [
    "Q123. Which of the following statement will import the pandas?\n",
    "a) import pandas as pd"
   ]
  },
  {
   "cell_type": "code",
   "execution_count": null,
   "metadata": {},
   "outputs": [],
   "source": [
    "Q124. Which of the following object did we get after reading the CSV\n",
    "file?\n",
    "a) DataFrame"
   ]
  },
  {
   "cell_type": "code",
   "execution_count": null,
   "metadata": {},
   "outputs": [],
   "source": [
    "Q125. Point out the wrong statement:\n",
    "    c) The panel is generally 2D labelled, also a size-mutable array"
   ]
  },
  {
   "cell_type": "code",
   "execution_count": null,
   "metadata": {},
   "outputs": [],
   "source": [
    "Q126. Which of the following library is similar to the pandas?\n",
    "a) numpy."
   ]
  },
  {
   "cell_type": "code",
   "execution_count": null,
   "metadata": {},
   "outputs": [],
   "source": [
    "Q127. Panel is a container for the Series, and DataFrame is a\n",
    "container for DataFrame objects.\n",
    "b) False"
   ]
  },
  {
   "cell_type": "code",
   "execution_count": null,
   "metadata": {},
   "outputs": [],
   "source": [
    "Q128. Which of the following is the prominent python “statistics and\n",
    "econometrics library”?\n",
    "c) Statsmodels."
   ]
  },
  {
   "cell_type": "code",
   "execution_count": null,
   "metadata": {},
   "outputs": [],
   "source": [
    "Q129. Which of the following is the foundational exploratory visualisation\n",
    "package for the R language in the pandas ecosystem?\n",
    "a) yhat"
   ]
  },
  {
   "cell_type": "code",
   "execution_count": null,
   "metadata": {},
   "outputs": [],
   "source": [
    "Q130. Pandas consist of static and the moving window linear and panel\n",
    "regression.\n",
    "a) True"
   ]
  },
  {
   "cell_type": "code",
   "execution_count": null,
   "metadata": {},
   "outputs": [],
   "source": [
    "Q131. Quandl API for Python wraps the __ REST API to\n",
    "returns the pandas DataFrames with time series indexes\n",
    "a) Quandl."
   ]
  },
  {
   "cell_type": "code",
   "execution_count": null,
   "metadata": {},
   "outputs": [],
   "source": [
    "Q132. Point out the correct statement:\n",
    "    a) Statsmodels provides powerful statistics, econometrics, analysis and the\n",
    "modelling functionality which is out of pandas’ scope\n"
   ]
  },
  {
   "cell_type": "code",
   "execution_count": null,
   "metadata": {},
   "outputs": [],
   "source": [
    "Q133.Which of the following library is used to retrieve and to acquire\n",
    "statistical data and metadata disseminated in SDMX 2.1?\n",
    "a) pandaSDMX"
   ]
  },
  {
   "cell_type": "code",
   "execution_count": null,
   "metadata": {},
   "outputs": [],
   "source": [
    "Q134. Which of the following provides the standard API for doing\n",
    "computations with MongoDB?\n",
    "a) Blaze"
   ]
  },
  {
   "cell_type": "code",
   "execution_count": null,
   "metadata": {},
   "outputs": [],
   "source": [
    "Q135. Point out the wrong statement:\n",
    "    c) Spyder is a cross-platform Qt-based open-source R IDE"
   ]
  },
  {
   "cell_type": "code",
   "execution_count": null,
   "metadata": {},
   "outputs": [],
   "source": [
    "Q136. Which of the following makes use of the pandas and returns\n",
    "data in a Series or DataFrame?\n",
    "b) freedapi"
   ]
  },
  {
   "cell_type": "code",
   "execution_count": null,
   "metadata": {},
   "outputs": [],
   "source": [
    "Q137. Spyder can introspect and display Pandas DataFrames\n",
    "b) False"
   ]
  },
  {
   "cell_type": "code",
   "execution_count": null,
   "metadata": {},
   "outputs": [],
   "source": [
    "Q138. Which of the following is used for machine learning in the python?\n",
    "a) scikit-learn"
   ]
  },
  {
   "cell_type": "code",
   "execution_count": null,
   "metadata": {},
   "outputs": [],
   "source": [
    "Q139. The ________ project builds on top of the pandas and matplotlib\n",
    "to provide easy plotting of data\n",
    "b) Seaborn."
   ]
  },
  {
   "cell_type": "code",
   "execution_count": null,
   "metadata": {},
   "outputs": [],
   "source": [
    "Q140 x-ray brings the labelled data power of pandas to the physical\n",
    "sciences.\n",
    "a) True"
   ]
  },
  {
   "cell_type": "code",
   "execution_count": null,
   "metadata": {},
   "outputs": [],
   "source": [
    "Q141. Which of the following is the base layer of all of the sparse\n",
    "has it indexed data structures?\n",
    "b) SparseArray"
   ]
  },
  {
   "cell_type": "code",
   "execution_count": null,
   "metadata": {},
   "outputs": [],
   "source": [
    "Q142. Point out the correct statement.\n",
    "d) All of the mentioned."
   ]
  },
  {
   "cell_type": "code",
   "execution_count": null,
   "metadata": {},
   "outputs": [],
   "source": [
    "Q143. Which of the following is not an indexed object?\n",
    "d) None of the mentioned"
   ]
  },
  {
   "cell_type": "code",
   "execution_count": null,
   "metadata": {},
   "outputs": [],
   "source": [
    "Q144. Which of the following list like data structure is used for managing\n",
    "the dynamic collection of SparseArrays?\n",
    "a) SparseList"
   ]
  },
  {
   "cell_type": "code",
   "execution_count": null,
   "metadata": {},
   "outputs": [],
   "source": [
    "Q145. Point out the wrong statement.\n",
    "a) to_array. append can accept scalar values or any 2-D sequence."
   ]
  },
  {
   "cell_type": "code",
   "execution_count": null,
   "metadata": {},
   "outputs": [],
   "source": [
    "Q146. Which of the following method used for transforming the\n",
    "Sparse-series index by the MultiIndex to a\n",
    "scipy.sparse.coo_matrix?\n",
    "a) SparseSeries.to_coo()"
   ]
  },
  {
   "cell_type": "code",
   "execution_count": null,
   "metadata": {},
   "outputs": [],
   "source": [
    "Q147. The integer format tracks only the locations and the sizes of\n",
    "blocks of data.\n",
    "b) False"
   ]
  },
  {
   "cell_type": "code",
   "execution_count": null,
   "metadata": {},
   "outputs": [],
   "source": [
    "Q148. Which of the following is used for the testing for membership in\n",
    "the list of column names?\n",
    "a) in."
   ]
  },
  {
   "cell_type": "code",
   "execution_count": null,
   "metadata": {},
   "outputs": [],
   "source": [
    "Q149. Which of the following indexing capabilities is used as the concise\n",
    "means of selecting data from a pandas object?\n",
    "b) ix"
   ]
  },
  {
   "cell_type": "code",
   "execution_count": null,
   "metadata": {},
   "outputs": [],
   "source": [
    "Q150. Pandas follow the NumPy convention of raising an error when\n",
    "you try to convert something to a bool\n",
    "a) True"
   ]
  }
 ],
 "metadata": {
  "kernelspec": {
   "display_name": "Python 3",
   "language": "python",
   "name": "python3"
  },
  "language_info": {
   "codemirror_mode": {
    "name": "ipython",
    "version": 3
   },
   "file_extension": ".py",
   "mimetype": "text/x-python",
   "name": "python",
   "nbconvert_exporter": "python",
   "pygments_lexer": "ipython3",
   "version": "3.7.3"
  }
 },
 "nbformat": 4,
 "nbformat_minor": 2
}
